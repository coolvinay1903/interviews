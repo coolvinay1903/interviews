{
  "nbformat": 4,
  "nbformat_minor": 0,
  "metadata": {
    "colab": {
      "name": "ml_interview.ipynb",
      "provenance": [],
      "toc_visible": true,
      "authorship_tag": "ABX9TyPsR/ScnkyYBqp6TO/GXxj6",
      "include_colab_link": true
    },
    "kernelspec": {
      "name": "python3",
      "display_name": "Python 3"
    },
    "language_info": {
      "name": "python"
    }
  },
  "cells": [
    {
      "cell_type": "markdown",
      "metadata": {
        "id": "view-in-github",
        "colab_type": "text"
      },
      "source": [
        "<a href=\"https://colab.research.google.com/github/coolvinay1903/interviews/blob/main/ml_interview.ipynb\" target=\"_parent\"><img src=\"https://colab.research.google.com/assets/colab-badge.svg\" alt=\"Open In Colab\"/></a>"
      ]
    },
    {
      "cell_type": "markdown",
      "source": [
        "# Problem 1\n",
        "Given two sorted arrays nums1 and nums2 of size m and n respectively, return the median of the two sorted arrays.\n",
        "\n",
        "The overall run time complexity should be O(log (m+n))."
      ],
      "metadata": {
        "id": "bGq53MPilgln"
      }
    },
    {
      "cell_type": "markdown",
      "source": [
        "## Example 1:\n",
        "\n",
        "Input: `nums1 = [1,3]`, `nums2 = [2]`\n",
        "\n",
        "Output: 2.00000\n",
        "\n",
        "Explanation: merged array = [1,2,3] and median is 2.\n"
      ],
      "metadata": {
        "id": "x2HZtVsMmBSL"
      }
    },
    {
      "cell_type": "markdown",
      "source": [
        "## Example 2\n",
        "\n",
        "Input: `nums1 = [1,2]`,`nums2 = [3,4]`\n",
        "\n",
        "Output: 2.50000\n",
        "\n",
        "Explanation: merged array = `[1,2,3,4]` and median is (2 + 3) / 2 = 2.5."
      ],
      "metadata": {
        "id": "UA2ZkMYGp6A5"
      }
    },
    {
      "cell_type": "code",
      "source": [
        "import numpy as np\n"
      ],
      "metadata": {
        "id": "qWPMRCO0mfuK"
      },
      "execution_count": 2,
      "outputs": []
    },
    {
      "cell_type": "markdown",
      "source": [
        "# Problem 2\n",
        "\n",
        "You have 100 light bulbs lined up in a row. You walk past them and turn them all on in the first pass. Then, starting at the same end, you go along and switch every other light bulb off... so all even-numbered light bulbs are now turned off.\n",
        "\n",
        "Now, you go back again and switch every third light bulb. But, any light bulb that is off is turned back on, and any light bulb that is on, is turned off.\n",
        "\n",
        "You go back again and switch every fourth bulb, if it is on you turn it off and vice-versa.\n",
        "\n",
        "Then you repeat this process for every fifth bulb, and every sixth bulb, and every seventh bulb... up to 100 passes.\n",
        "\n",
        "+ how many light bulbs are on after 100 passes? \n",
        "+ which light bulbs are on after 100 passes?"
      ],
      "metadata": {
        "id": "Liz7iJ3EmgnV"
      }
    },
    {
      "cell_type": "markdown",
      "source": [
        "# Problem 3\n",
        "How do you select important variables while working on a data set? "
      ],
      "metadata": {
        "id": "RgqMStfzoHI4"
      }
    },
    {
      "cell_type": "markdown",
      "source": [
        "# Problem 4\n",
        "How do you handle outliers in the data?"
      ],
      "metadata": {
        "id": "QHq4kzK9pu16"
      }
    },
    {
      "cell_type": "markdown",
      "source": [
        "# Problem 5\n",
        "What is k-nearest neighbour algorithm?\n",
        " + Why does it perform poorly if the feature set has high dimensionality?"
      ],
      "metadata": {
        "id": "HUYT201kqHuD"
      }
    },
    {
      "cell_type": "markdown",
      "source": [
        "# Problem 6\n",
        "How to count the number of objects of a given class?"
      ],
      "metadata": {
        "id": "yaeLE7Knqgks"
      }
    }
  ]
}